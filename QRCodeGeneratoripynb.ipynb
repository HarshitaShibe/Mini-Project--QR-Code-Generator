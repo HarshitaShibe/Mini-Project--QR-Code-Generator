{
  "nbformat": 4,
  "nbformat_minor": 0,
  "metadata": {
    "colab": {
      "provenance": [],
      "authorship_tag": "ABX9TyNS+J/wNZW81Qi/JztFfmdA",
      "include_colab_link": true
    },
    "kernelspec": {
      "name": "python3",
      "display_name": "Python 3"
    },
    "language_info": {
      "name": "python"
    }
  },
  "cells": [
    {
      "cell_type": "markdown",
      "metadata": {
        "id": "view-in-github",
        "colab_type": "text"
      },
      "source": [
        "<a href=\"https://colab.research.google.com/github/HarshitaShibe/Mini-Project--QR-Code-Generator/blob/main/QRCodeGeneratoripynb.ipynb\" target=\"_parent\"><img src=\"https://colab.research.google.com/assets/colab-badge.svg\" alt=\"Open In Colab\"/></a>"
      ]
    },
    {
      "cell_type": "markdown",
      "source": [
        "# **Mini Project : QR Code Generator**"
      ],
      "metadata": {
        "id": "M0rD01raGXDC"
      }
    },
    {
      "cell_type": "markdown",
      "source": [
        "This repository implements a Python-driven QR code generation utility leveraging the PyQRCode and pypng libraries. It facilitates the creation of QR code objects from string literals, including URLs and plain text, and allows for scalable, lossless export in PNG format. The solution is lightweight, platform-independent and suitable for integration into larger systems such as inventory management, digital identity frameworks and contactless transaction infrastructures."
      ],
      "metadata": {
        "id": "9uUsYsv8GyZ4"
      }
    },
    {
      "cell_type": "code",
      "execution_count": 13,
      "metadata": {
        "colab": {
          "base_uri": "https://localhost:8080/"
        },
        "id": "gMFzNN4r_OzA",
        "outputId": "002749a4-84f4-473b-87ac-43aa8aca4b34"
      },
      "outputs": [
        {
          "output_type": "stream",
          "name": "stdout",
          "text": [
            "Requirement already satisfied: pyqrcode in /usr/local/lib/python3.11/dist-packages (1.2.1)\n",
            "Requirement already satisfied: pypng in /usr/local/lib/python3.11/dist-packages (0.20220715.0)\n"
          ]
        }
      ],
      "source": [
        "# Step One : Installing Libraries\n",
        "\n",
        "!pip install pyqrcode pypng\n",
        "# pyqrcode : Helps to generate QR code objects\n",
        "# pypng : for saving QR codes as png files"
      ]
    },
    {
      "cell_type": "code",
      "source": [
        "# Step Two : Importing Libraries\n",
        "\n",
        "import pyqrcode"
      ],
      "metadata": {
        "id": "StDmB6Jb_dTb"
      },
      "execution_count": 14,
      "outputs": []
    },
    {
      "cell_type": "code",
      "source": [
        "# Step Three : Storing the data\n",
        "\n",
        "data = input(\"Enter the Link : \")\n",
        "# This line defines a string variable data containing the URL you want to encode as a QR code."
      ],
      "metadata": {
        "colab": {
          "base_uri": "https://localhost:8080/"
        },
        "id": "LGVuS71JAHOR",
        "outputId": "89e2d933-63de-4e16-d220-4e52cfa061eb"
      },
      "execution_count": 15,
      "outputs": [
        {
          "name": "stdout",
          "output_type": "stream",
          "text": [
            "Enter the Link : https://www.linkedin.com/in/harshita-shibe-a53488327/\n"
          ]
        }
      ]
    },
    {
      "cell_type": "code",
      "source": [
        "# Step Four : Generating the QR code\n",
        "\n",
        "qr = pyqrcode.create(data)"
      ],
      "metadata": {
        "id": "SxqNBQT7AsPY"
      },
      "execution_count": 16,
      "outputs": []
    },
    {
      "cell_type": "code",
      "source": [
        "# Step Five : Saving the QR Code as an Image\n",
        "\n",
        "qr.png(\"GeneratedQR.png\", scale = 5)"
      ],
      "metadata": {
        "id": "A1XE3FhTAxbf"
      },
      "execution_count": 18,
      "outputs": []
    }
  ]
}